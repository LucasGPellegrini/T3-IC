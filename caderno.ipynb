{
 "cells": [
  {
   "cell_type": "markdown",
   "id": "deaae08b-6cf0-4f76-9239-3cfc4edded01",
   "metadata": {},
   "source": [
    "# Trabalho de Particle Swarm Optimization (PSO)"
   ]
  },
  {
   "cell_type": "markdown",
   "id": "fcc447a6-884a-4a47-b8cb-bd95b72b69ed",
   "metadata": {},
   "source": [
    "## Problema do Empacotamento\n",
    "### Bin Packing Problem (BPP)"
   ]
  },
  {
   "cell_type": "markdown",
   "id": "24a02234-2103-4d7d-9742-2dfe2680d63d",
   "metadata": {},
   "source": [
    "Dada uma quantidade inteira e positiva de pacotes/depósitos de capacidade $C$ e um set de $M$ itens  $I = [I_1, \\cdots, I_M]$ de tamanhos $S = [S_1,\\cdots,S_M]$, o problema consiste em empacotar todos os itens nos pacotes, de modo a não exceder a capacidade $C$, **minimizando** a quantidade $N$ de pacotes utilizados."
   ]
  },
  {
   "cell_type": "markdown",
   "id": "bbb77cc9-7c02-4305-bf29-d4c894f51f4b",
   "metadata": {},
   "source": [
    "## Imports"
   ]
  },
  {
   "cell_type": "code",
   "execution_count": 2,
   "id": "74bcc171-5407-403a-8607-c6837d673196",
   "metadata": {},
   "outputs": [],
   "source": [
    "import numpy as np\n",
    "import pandas as pd\n",
    "import copy\n",
    "import py\n",
    "# from pyswarm import pso"
   ]
  },
  {
   "cell_type": "markdown",
   "id": "e0eb2866-d5cc-4b3a-a3bf-7b9f25b1d9cf",
   "metadata": {},
   "source": [
    "## Modelando o Problema"
   ]
  },
  {
   "cell_type": "markdown",
   "id": "69bc8569-d887-4b88-aef4-6f4c55797654",
   "metadata": {},
   "source": []
  },
  {
   "cell_type": "markdown",
   "id": "66f3a60c-5eed-4996-915a-865ba50d6e52",
   "metadata": {},
   "source": []
  }
 ],
 "metadata": {
  "kernelspec": {
   "display_name": "Python 3 (ipykernel)",
   "language": "python",
   "name": "python3"
  },
  "language_info": {
   "codemirror_mode": {
    "name": "ipython",
    "version": 3
   },
   "file_extension": ".py",
   "mimetype": "text/x-python",
   "name": "python",
   "nbconvert_exporter": "python",
   "pygments_lexer": "ipython3",
   "version": "3.11.8"
  }
 },
 "nbformat": 4,
 "nbformat_minor": 5
}
