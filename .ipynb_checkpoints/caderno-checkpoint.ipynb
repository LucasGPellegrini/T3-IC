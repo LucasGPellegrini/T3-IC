{
 "cells": [
  {
   "cell_type": "markdown",
   "id": "deaae08b-6cf0-4f76-9239-3cfc4edded01",
   "metadata": {},
   "source": [
    "# Trabalho de Particle Swarm Optimization (PSO)"
   ]
  },
  {
   "cell_type": "markdown",
   "id": "fcc447a6-884a-4a47-b8cb-bd95b72b69ed",
   "metadata": {},
   "source": [
    "## Problema do Empacotamento\n",
    "### Bin Packing Problem (BPP)"
   ]
  },
  {
   "cell_type": "markdown",
   "id": "24a02234-2103-4d7d-9742-2dfe2680d63d",
   "metadata": {},
   "source": [
    "Dada uma quantidade inteira e positiva de pacotes/depósitos de capacidade $C$ e um set de $M$ itens  $I = [I_1, \\cdots, I_M]$ de tamanhos $S = [S_1,\\cdots,S_M]$, o problema consiste em empacotar todos os itens nos pacotes, de modo a não exceder a capacidade $C$, **minimizando** a quantidade $N$ de pacotes utilizados."
   ]
  },
  {
   "cell_type": "markdown",
   "id": "bbb77cc9-7c02-4305-bf29-d4c894f51f4b",
   "metadata": {},
   "source": [
    "## Imports"
   ]
  },
  {
   "cell_type": "code",
   "execution_count": 1,
   "id": "74bcc171-5407-403a-8607-c6837d673196",
   "metadata": {},
   "outputs": [],
   "source": [
    "import numpy as np\n",
    "import copy\n",
    "#from pyswarm import pso # Provavelmente não vai usar"
   ]
  },
  {
   "cell_type": "markdown",
   "id": "e0eb2866-d5cc-4b3a-a3bf-7b9f25b1d9cf",
   "metadata": {},
   "source": [
    "## Modelando o Problema"
   ]
  },
  {
   "cell_type": "markdown",
   "id": "899bfc9b-0d79-42b2-a9cd-ad4ce2291219",
   "metadata": {},
   "source": [
    "### PSO\n",
    "**A otimização é dada conforme um dos seguintes sistemas de equações:**\n",
    "\n",
    "$$\n",
    "\\huge{\n",
    "\\left\\{\n",
    "\\begin{align}\n",
    "&x_i(t+1)=x_i(t)+v_i(t+1)\\\\\n",
    "&v_i(t+1)=\\omega\\cdot v_i(t)+c_1\\cdot R_1\\cdot\\{x_i^{pbest}(t)-x_i(t)\\}+c_2\\cdot R_2\\cdot\\{x^{gbest}(t)-x_i(t)\\}\n",
    "\\end{align}\n",
    "\\right.}\n",
    "$$\n",
    "\n",
    "**Ou então**\n",
    "\n",
    "$$\n",
    "\\huge{\n",
    "\\left\\{\n",
    "\\begin{align}\n",
    "x_i(t+1)=&x_i(t)+v_i(t+1)\\\\\n",
    "v_i(t+1)=&\\omega\\cdot v_i(t)+c_1\\cdot R_1\\cdot\\{x_i^{pbest}(t)-x_i(t)\\}\\\\\n",
    "&+c_2\\cdot R_2\\cdot\\{x^{gbest}(t)-x_i(t)\\}\\\\\n",
    "&+c_3\\cdot R_3\\cdot\\{x^{sgbest}(t)-x_i(t)\\}\n",
    "\\end{align}\n",
    "\\right.}\n",
    "$$\n",
    "\n",
    "**Onde:**\n",
    "\n",
    "- $x_i(t)$ é um vetor de posições, no instante $t$;\n",
    "- $v_1(t)$ é um vetor de velocidades, no instante $t$;\n",
    "- $x_i^{pbest}(t)$ é a melhor posição conhecida da partícula $i$, até o instante $t$;\n",
    "- $x^{gbest}(t)$ é a melhor posição conhecida do enxame até o instante $t$;\n",
    "- $x^{sgbest}(t)$ é a segunda melhor posição conhecida do enxame até o instante $t$;\n",
    "- $\\omega,\\;c_2,\\;c_3\\;\\in [0,2[$ são coeficientes sócio-cognitivos:\n",
    "    - $\\omega$ é referente à inércia;\n",
    "        - dado por: $\\omega = \\omega_{max}-(\\omega_{max}-\\omega_{min})\\cdot\\frac{t}{t_{max}}$\n",
    "    - $c_1$ é referente à influência da melhor posição conhecida da partícula;\n",
    "    - $c_2$ é referente à influência da melhor posição conhecida do enxame;\n",
    "    - Onde adota-se $c_1 = c_2 = 1,5$.\n",
    "    - $c_3$ é referente à influência da segunda melhor posição conhecida do enxame;\n",
    "        - Adota-se $c_3 = 1,9$.\n",
    "- $R_1,\\;R_2,\\;R_3$ são constantes geradas aleatóriamente $\\in [0,1[$;"
   ]
  },
  {
   "cell_type": "markdown",
   "id": "66f3a60c-5eed-4996-915a-865ba50d6e52",
   "metadata": {},
   "source": [
    "#### Fitness\n",
    "\n",
    "$$\n",
    "\\huge{\n",
    "\\begin{align}\n",
    "f_{BPP} = \\frac{\\sum^{N}_{i=1}(fill_i/C)^K}{N}\\\\\n",
    "\\end{align}}\n",
    "$$\n",
    "\n",
    "$$\n",
    "\\begin{matrix*}\n",
    "    \\text{Seja:}\\left(\n",
    "    \\begin{matrix*}\n",
    "        \\textrm{\\textbf{N} o número de pacotes (bins),}\\\\\n",
    "        \\textrm{\\textbf{fill} a soma dos tamanhos dos itens no pacote \\textbf{i},}\\\\\n",
    "        \\textrm{\\textbf{C} a capacidade do pacote}\\\\\n",
    "        \\textrm{\\textbf{k} uma constante de elitismo, } k\\gt1\\\\\n",
    "    \\end{matrix*}\\right)\n",
    "\\end{matrix*}\n",
    "$$"
   ]
  },
  {
   "cell_type": "markdown",
   "id": "1d6311b3-787b-431a-af90-212c5b1d099d",
   "metadata": {},
   "source": [
    "---"
   ]
  },
  {
   "cell_type": "markdown",
   "id": "faf38314-6b84-4fff-ad37-fbafe802ec21",
   "metadata": {},
   "source": [
    "## Implementação"
   ]
  },
  {
   "cell_type": "markdown",
   "id": "14c316e1-5d63-4b8c-a82d-bfd76b4495c4",
   "metadata": {},
   "source": [
    "#### Vetor X de posições\n",
    "$$\n",
    "\\begin{matrix}\n",
    "x\\;\\text{ é um vetor de posições, onde cada posição}\\\\\n",
    "x_i\\;\\text{ representa a i-ésima partícula e:}\n",
    "\\end{matrix}\\quad\n",
    "\\left\\{\\begin{align}\n",
    "&x_{i} = \\quad\\text{é uma lista de pacotes/bins}\\\\\n",
    "&x_{i_j} = \\quad\\text{é o j-ésimo pacote e contem n tuplas }(int,\\; int)\\text{ com (índice, valor/peso) do item}\\\\\n",
    "\\end{align}\n",
    "\\right.\n",
    "$$"
   ]
  },
  {
   "cell_type": "markdown",
   "id": "cde19355-ab3b-4b6e-9d1c-c60db2ea72f8",
   "metadata": {},
   "source": [
    "#### Mudança de Posição\n",
    "Baseada na equação de velocidade\n",
    "\n",
    "- A inércia ($\\omega$) foi adaptada para representar o quanto a posição da partícula se mantém estática;\n",
    "- Os coeficientes de influência ($c_1,\\;c_2,\\;c_3$):\n",
    "    - São ordenados de forma crescente;\n",
    "    - SE $c_i \\gt \\omega\\quad i\\in[1,3]$ ENTÂO:\n",
    "        - O pacote com o maior valor de $fill_i$ do respectivo $x_i^{pbest},\\;x_i^{gbest},\\;x_i^{sgbest}$ é incluído em $x_i$;\n",
    "        - Duplicatas são removidas (para garantir partículas válidas);\n",
    "    - $\\forall \\text{ pacote } x_{i_j} | fill_j \\le \\theta$ (coeficiente de preenchimento):\n",
    "        - Os itens de $x_{i_j}$ são agrupados e re-inseridos em $x_i$ usando a heurística MBS."
   ]
  },
  {
   "cell_type": "markdown",
   "id": "29af36bf-6ef4-49eb-9dee-193ec56017a1",
   "metadata": {},
   "source": [
    "### Heurísticas"
   ]
  },
  {
   "cell_type": "code",
   "execution_count": 2,
   "id": "55c5d04d-15c6-4488-8d05-d68f0bc9768f",
   "metadata": {},
   "outputs": [],
   "source": [
    "def FF(individuo, item, C):\n",
    "\n",
    "    indv = copy.deepcopy(individuo)\n",
    "\n",
    "    if indv == []:\n",
    "        indv.append([item])\n",
    "        return indv\n",
    "\n",
    "    added = False\n",
    "    for pacote in indv:\n",
    "        if fill(pacote) + item[1] <= C:\n",
    "            pacote.append(item)\n",
    "            added = True\n",
    "            break\n",
    "\n",
    "    if not added:\n",
    "        indv.append([item])\n",
    "\n",
    "    return indv"
   ]
  },
  {
   "cell_type": "code",
   "execution_count": 4,
   "id": "d0c4a161-4663-48dd-8705-0507c3709c12",
   "metadata": {},
   "outputs": [],
   "source": [
    "class BPPPSO():\n",
    "    def __init__(self,\n",
    "                 itens: list[(int, int)] = [],\n",
    "                 C: int = 0,\n",
    "                 K: float = 0.0,\n",
    "                 num_part: int = 10,\n",
    "                 x: list[list[list[(int, int)]]] = [],\n",
    "                 t: int = 1,\n",
    "                 t_max: int = 200,\n",
    "                 x_pb: list[list[list[(int, int)]]] = [],\n",
    "                 x_gb: list[list[(int, int)]] = [],\n",
    "                 x_sgb:list[list[(int, int)]] = [],\n",
    "                 w: float = -1.0,\n",
    "                 w_max: float = 0.9,\n",
    "                 w_min: float = 0.4,\n",
    "                 c1: float = 1.5,\n",
    "                 c2: float = 1.5,\n",
    "                 c3: float = 1.9, # 1.5 \n",
    "                 R1: float = -1.0,\n",
    "                 R2: float = -1.0,\n",
    "                 R3: float = -1.0):\n",
    "        self.itens = itens\n",
    "        self.C = C\n",
    "        self.K = K\n",
    "        self.num_part = num_part\n",
    "        self.x = [[] for _ in range(self.num_part)]\n",
    "        self.v = v\n",
    "        self.t = t\n",
    "        self.x_pb = [[] for _ in range(self.num_part)]\n",
    "        self.x_gb = x_gb\n",
    "        self.x_sgb = x_sgb\n",
    "        self.w = w\n",
    "        self.w_max = w_max\n",
    "        self.w_min = w_min\n",
    "        self.c1 = c1\n",
    "        self.c2 = c2\n",
    "        self.c3 = c3\n",
    "        self.R1 = R1\n",
    "        self.R2 = R2\n",
    "        self.R3 = R3\n",
    "\n",
    "    def fill(self, pacote: list[(int, int)]) -> int:\n",
    "        return sum(x[1] for x in pacote)\n",
    "\n",
    "    def fitness(self, individuo: list[list[(int, int)]]) -> float:\n",
    "        soma = 0\n",
    "        for pacote in individuo:\n",
    "            soma += (fill(pacote)/self.C) ** self.K\n",
    "            \n",
    "        return soma/len(individuo)\n",
    "\n",
    "    def inicializa(self) -> None:\n",
    "        lista_itens = []\n",
    "        for i in range(0, self.num_part):\n",
    "            lista_itens = copy.deepcopy(this.itens)\n",
    "            np.random.shuffle(lista_itens)\n",
    "            for item in lista_itens:\n",
    "                self.x[i] = FF(self.x[i], item, self.C)\n",
    "\n",
    "    def itera(self) -> None:\n",
    "        pass\n",
    "\n",
    "    def main(self) -> None:\n",
    "        pass"
   ]
  },
  {
   "cell_type": "markdown",
   "id": "51b24dea-d8fb-43e8-9218-5cb0d4dfd213",
   "metadata": {},
   "source": [
    "## Testes/Execução"
   ]
  }
 ],
 "metadata": {
  "kernelspec": {
   "display_name": "Python 3 (ipykernel)",
   "language": "python",
   "name": "python3"
  },
  "language_info": {
   "codemirror_mode": {
    "name": "ipython",
    "version": 3
   },
   "file_extension": ".py",
   "mimetype": "text/x-python",
   "name": "python",
   "nbconvert_exporter": "python",
   "pygments_lexer": "ipython3",
   "version": "3.11.8"
  }
 },
 "nbformat": 4,
 "nbformat_minor": 5
}
