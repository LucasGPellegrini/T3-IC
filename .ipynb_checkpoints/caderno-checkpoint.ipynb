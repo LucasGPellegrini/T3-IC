{
 "cells": [
  {
   "cell_type": "markdown",
   "id": "deaae08b-6cf0-4f76-9239-3cfc4edded01",
   "metadata": {},
   "source": [
    "# Trabalho de Particle Swarm Optimization (PSO)"
   ]
  },
  {
   "cell_type": "markdown",
   "id": "fcc447a6-884a-4a47-b8cb-bd95b72b69ed",
   "metadata": {},
   "source": [
    "## Problema do Empacotamento\n",
    "### Bin Packing Problem (BPP)"
   ]
  },
  {
   "cell_type": "markdown",
   "id": "24a02234-2103-4d7d-9742-2dfe2680d63d",
   "metadata": {},
   "source": [
    "Dada uma quantidade inteira e positiva de pacotes/depósitos de capacidade $C$ e um set de $M$ itens  $I = [I_1, \\cdots, I_M]$ de tamanhos $S = [S_1,\\cdots,S_M]$, o problema consiste em empacotar todos os itens nos pacotes, de modo a não exceder a capacidade $C$, **minimizando** a quantidade $N$ de pacotes utilizados."
   ]
  },
  {
   "cell_type": "markdown",
   "id": "bbb77cc9-7c02-4305-bf29-d4c894f51f4b",
   "metadata": {},
   "source": [
    "## Imports"
   ]
  },
  {
   "cell_type": "code",
   "execution_count": 2,
   "id": "74bcc171-5407-403a-8607-c6837d673196",
   "metadata": {},
   "outputs": [],
   "source": [
    "import numpy as np\n",
    "import copy\n",
    "#from pyswarm import pso # Provavelmente não vai usar"
   ]
  },
  {
   "cell_type": "markdown",
   "id": "e0eb2866-d5cc-4b3a-a3bf-7b9f25b1d9cf",
   "metadata": {},
   "source": [
    "## Modelando o Problema"
   ]
  },
  {
   "cell_type": "markdown",
   "id": "899bfc9b-0d79-42b2-a9cd-ad4ce2291219",
   "metadata": {},
   "source": [
    "### PSO\n",
    "**A otimização é dada conforme um dos seguintes sistemas de equações:**\n",
    "\n",
    "$$\n",
    "\\huge{\n",
    "\\left\\{\n",
    "\\begin{align}\n",
    "&x_i(t+1)=x_i(t)+v_i(t+1)\\\\\n",
    "&v_i(t+1)=\\omega\\cdot v_i(t)+c_1\\cdot R_1\\cdot\\{x_i^{pbest}(t)-x_i(t)\\}+c_2\\cdot R_2\\cdot\\{x^{gbest}(t)-x_i(t)\\}\n",
    "\\end{align}\n",
    "\\right.}\n",
    "$$\n",
    "\n",
    "**Ou então**\n",
    "\n",
    "$$\n",
    "\\huge{\n",
    "\\left\\{\n",
    "\\begin{align}\n",
    "x_i(t+1)=&x_i(t)+v_i(t+1)\\\\\n",
    "v_i(t+1)=&\\omega\\cdot v_i(t)+c_1\\cdot R_1\\cdot\\{x_i^{pbest}(t)-x_i(t)\\}\\\\\n",
    "&+c_2\\cdot R_2\\cdot\\{x^{gbest}(t)-x_i(t)\\}\\\\\n",
    "&+c_3\\cdot R_3\\cdot\\{x^{sgbest}(t)-x_i(t)\\}\n",
    "\\end{align}\n",
    "\\right.}\n",
    "$$\n",
    "\n",
    "**Onde:**\n",
    "\n",
    "- $x_i(t)$ é um vetor de posições, no instante $t$;\n",
    "- $v_1(t)$ é um vetor de velocidades, no instante $t$;\n",
    "- $x_i^{pbest}(t)$ é a melhor posição conhecida da partícula $i$, até o instante $t$;\n",
    "- $x^{gbest}(t)$ é a melhor posição conhecida do enxame até o instante $t$;\n",
    "- $x^{sgbest}(t)$ é a segunda melhor posição conhecida do enxame até o instante $t$;\n",
    "- $\\omega,\\;c_2,\\;c_3\\;\\in [0,2[$ são coeficientes sócio-cognitivos:\n",
    "    - $\\omega$ é referente à inércia;\n",
    "        - dado por: $\\omega = \\omega_{max}-(\\omega_{max}-\\omega_{min})\\cdot\\frac{t}{t_{max}}$\n",
    "    - $c_1$ é referente à influência da melhor posição conhecida da partícula;\n",
    "    - $c_2$ é referente à influência da melhor posição conhecida do enxame;\n",
    "    - Onde adota-se $c_1 = c_2 = 1,5$.\n",
    "    - $c_3$ é referente à influência da segunda melhor posição conhecida do enxame;\n",
    "        - Adota-se $c_3 = 1,9$.\n",
    "- $R_1,\\;R_2,\\;R_3$ são constantes geradas aleatóriamente $\\in [0,1[$;"
   ]
  },
  {
   "cell_type": "markdown",
   "id": "66f3a60c-5eed-4996-915a-865ba50d6e52",
   "metadata": {},
   "source": [
    "#### Fitness\n",
    "\n",
    "$$\n",
    "\\huge{\n",
    "\\begin{align}\n",
    "f_{BPP} = \\frac{\\sum^{N}_{i=1}(fill_i/C)^K}{N}\\\\\n",
    "\\end{align}}\n",
    "$$\n",
    "\n",
    "$$\n",
    "\\begin{matrix*}\n",
    "    \\text{Seja:}\\left(\n",
    "    \\begin{matrix*}\n",
    "        \\textrm{\\textbf{N} o número de pacotes (bins),}\\\\\n",
    "        \\textrm{\\textbf{fill} a soma dos tamanhos dos itens no pacote \\textbf{i},}\\\\\n",
    "        \\textrm{\\textbf{C} a capacidade do pacote}\\\\\n",
    "        \\textrm{\\textbf{k} uma constante de elitismo, } k\\gt1\\\\\n",
    "    \\end{matrix*}\\right)\n",
    "\\end{matrix*}\n",
    "$$"
   ]
  },
  {
   "cell_type": "markdown",
   "id": "1d6311b3-787b-431a-af90-212c5b1d099d",
   "metadata": {},
   "source": [
    "---"
   ]
  },
  {
   "cell_type": "markdown",
   "id": "faf38314-6b84-4fff-ad37-fbafe802ec21",
   "metadata": {},
   "source": [
    "## Movimento da Partícula"
   ]
  },
  {
   "cell_type": "code",
   "execution_count": 3,
   "id": "865a7ca9-2a8e-4a63-a480-91c9c9aefc87",
   "metadata": {},
   "outputs": [],
   "source": [
    "def movimento():\n",
    "    pass"
   ]
  },
  {
   "cell_type": "markdown",
   "id": "51b24dea-d8fb-43e8-9218-5cb0d4dfd213",
   "metadata": {},
   "source": [
    "## Algoritmo Geral"
   ]
  },
  {
   "cell_type": "code",
   "execution_count": null,
   "id": "015d6d81-206c-4de0-baa0-a793ca0294bc",
   "metadata": {},
   "outputs": [],
   "source": [
    "def main():\n",
    "    pass"
   ]
  }
 ],
 "metadata": {
  "kernelspec": {
   "display_name": "Python 3 (ipykernel)",
   "language": "python",
   "name": "python3"
  },
  "language_info": {
   "codemirror_mode": {
    "name": "ipython",
    "version": 3
   },
   "file_extension": ".py",
   "mimetype": "text/x-python",
   "name": "python",
   "nbconvert_exporter": "python",
   "pygments_lexer": "ipython3",
   "version": "3.11.8"
  }
 },
 "nbformat": 4,
 "nbformat_minor": 5
}
